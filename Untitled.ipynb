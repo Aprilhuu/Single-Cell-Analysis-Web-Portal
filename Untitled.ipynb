{
 "cells": [
  {
   "cell_type": "code",
   "execution_count": null,
   "metadata": {
    "scrolled": true
   },
   "outputs": [],
   "source": [
    "from iplot._scanpy import tsne\n",
    "import scanpy as sc\n",
    "import matplotlib.pyplot as plt\n",
    "import numpy as np\n",
    "\n",
    "adata =  sc.read_h5ad(\"./userData/datafile/exported_140_5e44801b.h5ad\")\n",
    "sc.pp.filter_genes(adata, min_cells=300)\n",
    "# sc.pp.filter_genes(adata, min_cells=300)\n",
    "sc.pp.pca(adata)\n",
    "sc.pp.neighbors(adata)\n",
    "sc.tl.louvain(adata)\n",
    "# sc.tl.tsne(adata)\n",
    "# import json\n",
    "# with open(\"../test.json\", \"w\") as f:\n",
    "#     json.dump(tsne(adata), f)"
   ]
  },
  {
   "cell_type": "code",
   "execution_count": null,
   "metadata": {},
   "outputs": [],
   "source": [
    "adata[np.where(adata.obs['louvain'].astype(int) == 1)[0]]"
   ]
  }
 ],
 "metadata": {
  "hide_input": false,
  "kernelspec": {
   "display_name": "Python 3",
   "language": "python",
   "name": "python3"
  },
  "language_info": {
   "codemirror_mode": {
    "name": "ipython",
    "version": 3
   },
   "file_extension": ".py",
   "mimetype": "text/x-python",
   "name": "python",
   "nbconvert_exporter": "python",
   "pygments_lexer": "ipython3",
   "version": "3.6.9"
  }
 },
 "nbformat": 4,
 "nbformat_minor": 2
}
