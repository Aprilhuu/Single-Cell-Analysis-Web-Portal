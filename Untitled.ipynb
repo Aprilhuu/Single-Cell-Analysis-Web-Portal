{
 "cells": [
  {
   "cell_type": "code",
   "execution_count": 1,
   "metadata": {
    "scrolled": true
   },
   "outputs": [],
   "source": [
    "import iplot\n",
    "import scanpy as sc\n",
    "import matplotlib.pyplot as plt\n",
    "import numpy as np"
   ]
  },
  {
   "cell_type": "code",
   "execution_count": 8,
   "metadata": {},
   "outputs": [],
   "source": [
    "adata = sc.read_10x_mtx(\n",
    "    './filtered_gene_bc_matrices/hg19/',               # use gene symbols for the variable names (variables-axis index)\n",
    "    cache=True) "
   ]
  },
  {
   "cell_type": "code",
   "execution_count": 13,
   "metadata": {},
   "outputs": [],
   "source": [
    "adata =  sc.read_h5ad(\"./userData/datafile/ww_5e697f3f.h5ad\")"
   ]
  },
  {
   "cell_type": "code",
   "execution_count": 14,
   "metadata": {},
   "outputs": [],
   "source": [
    "sc.pp.filter_genes(adata, min_cells=300)\n",
    "# sc.pp.filter_genes(adata, min_cells=300)\n",
    "sc.pp.log1p(adata)\n",
    "sc.pp.normalize_per_cell(adata)\n",
    "sc.pp.pca(adata)\n",
    "sc.pp.neighbors(adata)\n",
    "sc.tl.louvain(adata)\n",
    "# sc.tl.tsne(adata)\n",
    "# sc.tl.umap(adata)\n",
    "# adata.write(\"louvain.h5ad\")\n",
    "# import json\n",
    "# with open(\"../test.json\", \"w\") as f:\n",
    "#     json.dump(tsne(adata), f)"
   ]
  },
  {
   "cell_type": "code",
   "execution_count": 22,
   "metadata": {},
   "outputs": [
    {
     "data": {
      "text/plain": [
       "AnnData object with n_obs × n_vars = 2700 × 1892 \n",
       "    obs: 'n_counts', 'louvain'\n",
       "    var: 'gene_ids', 'n_cells'\n",
       "    uns: 'pca', 'neighbors', 'louvain', 'rank_genes_groups'\n",
       "    obsm: 'X_pca'\n",
       "    varm: 'PCs'"
      ]
     },
     "execution_count": 22,
     "metadata": {},
     "output_type": "execute_result"
    }
   ],
   "source": [
    "adata"
   ]
  },
  {
   "cell_type": "code",
   "execution_count": 26,
   "metadata": {},
   "outputs": [],
   "source": [
    "adata.obs['test'] = np.random.choice(5, 2700)\n",
    "adata.obs['test'] = adata.obs['test'].astype('category')"
   ]
  },
  {
   "cell_type": "code",
   "execution_count": 27,
   "metadata": {},
   "outputs": [],
   "source": [
    "# sc.tl.dendrogram(adata, groupby=\"louvain\")\n",
    "sc.tl.rank_genes_groups(adata, groupby=\"louvain\")\n",
    "sc.tl.rank_genes_groups(adata, groupby=\"test\")"
   ]
  },
  {
   "cell_type": "code",
   "execution_count": 31,
   "metadata": {},
   "outputs": [
    {
     "data": {
      "text/plain": [
       "True"
      ]
     },
     "execution_count": 31,
     "metadata": {},
     "output_type": "execute_result"
    }
   ],
   "source": [
    "type({'a': 1}) == dict"
   ]
  }
 ],
 "metadata": {
  "hide_input": false,
  "kernelspec": {
   "display_name": "Python 3",
   "language": "python",
   "name": "python3"
  },
  "language_info": {
   "codemirror_mode": {
    "name": "ipython",
    "version": 3
   },
   "file_extension": ".py",
   "mimetype": "text/x-python",
   "name": "python",
   "nbconvert_exporter": "python",
   "pygments_lexer": "ipython3",
   "version": "3.6.9"
  }
 },
 "nbformat": 4,
 "nbformat_minor": 2
}
