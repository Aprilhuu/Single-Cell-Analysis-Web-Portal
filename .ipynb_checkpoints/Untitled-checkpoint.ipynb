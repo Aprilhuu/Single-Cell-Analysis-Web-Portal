{
 "cells": [
  {
   "cell_type": "code",
   "execution_count": 1,
   "metadata": {
    "scrolled": true
   },
   "outputs": [],
   "source": [
    "from iplot._scanpy import tsne\n",
    "import scanpy as sc\n",
    "import matplotlib.pyplot as plt\n",
    "import numpy as np"
   ]
  },
  {
   "cell_type": "code",
   "execution_count": 2,
   "metadata": {},
   "outputs": [],
   "source": [
    "adata =  sc.read_h5ad(\"./userData/datafile/hg19_5e3a41f8_5e4b51c2.h5ad\")"
   ]
  },
  {
   "cell_type": "code",
   "execution_count": null,
   "metadata": {},
   "outputs": [
    {
     "name": "stdout",
     "output_type": "stream",
     "text": [
      "WARNING: Consider installing the package MulticoreTSNE (https://github.com/DmitryUlyanov/Multicore-TSNE). Even for n_jobs=1 this speeds up the computation considerably and might yield better converged results.\n"
     ]
    }
   ],
   "source": [
    "adata =  sc.read_h5ad(\"./userData/datafile/hg19_5e3a41f8_5e4b51c2.h5ad\")\n",
    "sc.pp.filter_genes(adata, min_cells=300)\n",
    "# sc.pp.filter_genes(adata, min_cells=300)\n",
    "sc.pp.pca(adata)\n",
    "sc.pp.neighbors(adata)\n",
    "sc.tl.louvain(adata)\n",
    "sc.tl.tsne(adata)\n",
    "sc.tl.umap(adata)\n",
    "# adata.write(\"louvain.h5ad\")\n",
    "# import json\n",
    "# with open(\"../test.json\", \"w\") as f:\n",
    "#     json.dump(tsne(adata), f)"
   ]
  },
  {
   "cell_type": "code",
   "execution_count": null,
   "metadata": {},
   "outputs": [],
   "source": [
    "adata.var"
   ]
  }
 ],
 "metadata": {
  "hide_input": false,
  "kernelspec": {
   "display_name": "Python [conda env:SIMLR-JUPYTER]",
   "language": "python",
   "name": "conda-env-SIMLR-JUPYTER-py"
  },
  "language_info": {
   "codemirror_mode": {
    "name": "ipython",
    "version": 3
   },
   "file_extension": ".py",
   "mimetype": "text/x-python",
   "name": "python",
   "nbconvert_exporter": "python",
   "pygments_lexer": "ipython3",
   "version": "3.6.9"
  }
 },
 "nbformat": 4,
 "nbformat_minor": 2
}
